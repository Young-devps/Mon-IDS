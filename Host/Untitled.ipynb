{
 "cells": [
  {
   "cell_type": "code",
   "execution_count": 76,
   "metadata": {},
   "outputs": [
    {
     "name": "stdout",
     "output_type": "stream",
     "text": [
      "['_classic_test', 'fivethirtyeight', 'seaborn-muted', 'fast', 'seaborn-notebook', 'Solarize_Light2', 'ggplot', 'seaborn-ticks', 'seaborn-poster', 'seaborn-white', 'seaborn-whitegrid', 'seaborn-darkgrid', 'bmh', 'seaborn-colorblind', 'seaborn', 'seaborn-bright', 'grayscale', 'dark_background', 'seaborn-deep', 'seaborn-dark-palette', 'seaborn-pastel', 'seaborn-paper', 'tableau-colorblind10', 'classic', 'seaborn-talk', 'seaborn-dark']\n",
      "/home/youngdevps/anaconda3/lib/python3.7/site-packages/matplotlib/pyplot.py\n"
     ]
    },
    {
     "ename": "FileNotFoundError",
     "evalue": "[Errno 2] No such file or directory: 'tsla.csv'",
     "output_type": "error",
     "traceback": [
      "\u001b[0;31m-------------------------------------------------------------\u001b[0m",
      "\u001b[0;31mFileNotFoundError\u001b[0m           Traceback (most recent call last)",
      "\u001b[0;32m<ipython-input-76-624a1f4ea3a0>\u001b[0m in \u001b[0;36m<module>\u001b[0;34m\u001b[0m\n\u001b[1;32m     17\u001b[0m \u001b[0;34m\u001b[0m\u001b[0m\n\u001b[1;32m     18\u001b[0m \u001b[0;34m\u001b[0m\u001b[0m\n\u001b[0;32m---> 19\u001b[0;31m \u001b[0;32mwith\u001b[0m \u001b[0mopen\u001b[0m\u001b[0;34m(\u001b[0m\u001b[0;34m'tsla.csv'\u001b[0m\u001b[0;34m,\u001b[0m \u001b[0;34m'r'\u001b[0m\u001b[0;34m)\u001b[0m \u001b[0;32mas\u001b[0m \u001b[0mcsvfile\u001b[0m\u001b[0;34m:\u001b[0m\u001b[0;34m\u001b[0m\u001b[0;34m\u001b[0m\u001b[0m\n\u001b[0m\u001b[1;32m     20\u001b[0m     \u001b[0mfig\u001b[0m \u001b[0;34m=\u001b[0m \u001b[0mplt\u001b[0m\u001b[0;34m.\u001b[0m\u001b[0mfigure\u001b[0m\u001b[0;34m(\u001b[0m\u001b[0;34m'figure one'\u001b[0m\u001b[0;34m)\u001b[0m\u001b[0;34m\u001b[0m\u001b[0;34m\u001b[0m\u001b[0m\n\u001b[1;32m     21\u001b[0m     \u001b[0max1\u001b[0m \u001b[0;34m=\u001b[0m \u001b[0mplt\u001b[0m\u001b[0;34m.\u001b[0m\u001b[0msubplot2grid\u001b[0m\u001b[0;34m(\u001b[0m\u001b[0;34m(\u001b[0m\u001b[0;36m1\u001b[0m\u001b[0;34m,\u001b[0m \u001b[0;36m1\u001b[0m\u001b[0;34m)\u001b[0m\u001b[0;34m,\u001b[0m \u001b[0;34m(\u001b[0m\u001b[0;36m0\u001b[0m\u001b[0;34m,\u001b[0m \u001b[0;36m0\u001b[0m\u001b[0;34m)\u001b[0m\u001b[0;34m)\u001b[0m\u001b[0;34m\u001b[0m\u001b[0;34m\u001b[0m\u001b[0m\n",
      "\u001b[0;31mFileNotFoundError\u001b[0m: [Errno 2] No such file or directory: 'tsla.csv'"
     ]
    }
   ],
   "source": [
    "import matplotlib.pyplot as plt\n",
    "import numpy as np\n",
    "import matplotlib.dates as mdates\n",
    "import matplotlib.ticker as mticker\n",
    "from matplotlib import style\n",
    "\n",
    "style.use('dark_background')\n",
    "print(plt.style.available)\n",
    "print(plt.__file__)\n",
    "\n",
    "def bytespdate2num(fmt, encoding='utf-8'):\n",
    "    strconverter = mdates.strpdate2num(fmt)\n",
    "    def bytesconverter(b):\n",
    "        s = b.decode(encoding)\n",
    "        return strconverter(s)\n",
    "    return bytesconverter8\n",
    "\n",
    "\n",
    "with open('monitorDB.csv', 'r') as csvfile:\n",
    "    fig = plt.figure('figure one')\n",
    "    ax1 = plt.subplot2grid((1, 1), (0, 0))\n",
    "    # ax1.grid(True, color='g', linestyle='-', linewidth=0.1)\n",
    "\n",
    "    source_code = csvfile.read()\n",
    "    stock_data = []\n",
    "    split_source = source_code.split('\\n')\n",
    "\n",
    "    for line in split_source:\n",
    "        split_line = line.split(',')\n",
    "        stock_data.append(line)\n",
    "\n",
    "    date, openp, hightp, lowp, closep, aclosep, volume = np.loadtxt(stock_data,\n",
    "                                                                    delimiter=',',\n",
    "                                                                    unpack=True,\n",
    "                                                                    converters={0: bytespdate2num('%Y-%m-%d')})\n",
    "\n",
    "    ax1.plot(date, closep, label='close Price')\n",
    "    ax1.plot(date, openp, label='close Price')\n",
    "\n",
    "    for label in ax1.xaxis.get_ticklabels():\n",
    "        label.set_rotation(45)\n",
    "\n",
    "    ax1.xaxis.set_major_formatter(mdates.DateFormatter('%Y-%m-%d'))\n",
    "    ax1.xaxis.set_major_locator(mticker.MaxNLocator(10))\n",
    "    ax1.grid(True)\n",
    "\n",
    "    plt.xlabel('dates')\n",
    "    plt.ylabel('close price')\n",
    "    plt.title('finance with python  matplotlib')\n",
    "    plt.legend()\n",
    "    plt.subplots_adjust(left=0.09, bottom=0.20, right=0.94, top=0.90, wspace=0.2, hspace=0)\n",
    "    plt.show()"
   ]
  },
  {
   "cell_type": "code",
   "execution_count": 78,
   "metadata": {},
   "outputs": [
    {
     "name": "stdout",
     "output_type": "stream",
     "text": [
      "['140.79', '140.79', '140.79', '140.79', '140.79', '140.79', '140.79', '140.79', '140.79', '140.79', '140.79', '140.79', '140.79', '140.79', '140.79', '140.79', '140.79', '140.79', '140.79', '140.79', '140.79', '140.79', '140.79', '140.79', '140.79', '140.79', '140.79', '140.79', '140.90', '140.84', '140.84', '140.84', '140.95', '140.95', '140.95', '140.95', '140.95', '140.95', '140.95', '140.95', '140.95', '140.95', '140.95', '140.95', '140.95', '140.95']\n",
      "317.49\n"
     ]
    }
   ],
   "source": [
    "\n",
    "\n",
    "import ast\n",
    "\n",
    "def parse_tuple(string):\n",
    "    try:\n",
    "        s = ast.literal_eval(str(string))\n",
    "        if type(s) == tuple:\n",
    "            return s\n",
    "        return\n",
    "    except:\n",
    "        return\n",
    "    \n",
    "    \n",
    "def f(x):\n",
    "    x = parse_tuple(x)\n",
    "    size, byte = x\n",
    "    return size\n",
    "\n",
    "Disk_used = [f(x) for x in val['Disk[1]-used']]\n",
    "Disk_total, byte =  parse_tuple(val['Disk[0]-total'].max())\n",
    "\n",
    "\n",
    "print(Disk_used)\n",
    "print(Disk_total) "
   ]
  },
  {
   "cell_type": "code",
   "execution_count": 91,
   "metadata": {},
   "outputs": [
    {
     "name": "stdout",
     "output_type": "stream",
     "text": [
      "['2019-11-10 20:22:57', '2019-11-10 20:22:59', '2019-11-10 20:23:01', '2019-11-10 20:23:03', '2019-11-10 20:23:05', '2019-11-10 20:23:07', '2019-11-10 20:23:10', '2019-11-10 20:23:12', '2019-11-10 20:23:14', '2019-11-10 20:23:16', '2019-11-10 20:23:18', '2019-11-10 20:23:20', '2019-11-10 20:23:22', '2019-11-10 20:23:24', '2019-11-10 20:23:26', '2019-11-10 20:23:28', '2019-11-10 20:23:30', '2019-11-10 20:23:33', '2019-11-10 20:23:35', '2019-11-10 20:23:37', '2019-11-10 20:23:39', '2019-11-10 20:23:41', '2019-11-10 20:23:43', '2019-11-10 20:23:45', '2019-11-10 20:23:47', '2019-11-10 20:23:49', '2019-11-10 20:23:51', '2019-11-10 20:23:53', '2019-11-10 20:23:56', '2019-11-10 20:23:58', '2019-11-10 20:24:00', '2019-11-10 20:24:02', '2019-11-10 20:24:04', '2019-11-10 20:24:06', '2019-11-10 20:24:08', '2019-11-10 20:24:10', '2019-11-10 20:24:12', '2019-11-10 20:24:14', '2019-11-10 20:24:16', '2019-11-10 20:24:18', '2019-11-10 20:24:21', '2019-11-10 20:24:23', '2019-11-10 20:24:25', '2019-11-10 20:24:27', '2019-11-10 20:24:29', '2019-11-10 20:24:31']\n"
     ]
    }
   ],
   "source": [
    "val = pd.read_csv(\"monitorDB.csv\")\n",
    "cputp_user = val['cputp[0]-user']\n",
    "\n",
    "def f(x, type_):\n",
    "    if type_ ==\"float\":\n",
    "        x = float(x)\n",
    "        return x\n",
    "    elif type_ == \"tuple\":\n",
    "        x = parse_tuple(x)\n",
    "        size, byte = x\n",
    "        return size\n",
    "    elif type_ == \"date\":\n",
    "        arr = x.split(\".\")\n",
    "        return arr[0]\n",
    "\n",
    "date = [f(x, \"date\") for x in val['datetime']]\n",
    "print(date)"
   ]
  }
 ],
 "metadata": {
  "kernelspec": {
   "display_name": "Python 3",
   "language": "python",
   "name": "python3"
  },
  "language_info": {
   "codemirror_mode": {
    "name": "ipython",
    "version": 3
   },
   "file_extension": ".py",
   "mimetype": "text/x-python",
   "name": "python",
   "nbconvert_exporter": "python",
   "pygments_lexer": "ipython3",
   "version": "3.7.3"
  }
 },
 "nbformat": 4,
 "nbformat_minor": 2
}
