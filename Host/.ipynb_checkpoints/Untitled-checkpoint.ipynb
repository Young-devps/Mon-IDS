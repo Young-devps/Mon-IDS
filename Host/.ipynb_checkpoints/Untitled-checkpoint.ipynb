{
 "cells": [
  {
   "cell_type": "code",
   "execution_count": 76,
   "metadata": {},
   "outputs": [
    {
     "name": "stdout",
     "output_type": "stream",
     "text": [
      "['_classic_test', 'fivethirtyeight', 'seaborn-muted', 'fast', 'seaborn-notebook', 'Solarize_Light2', 'ggplot', 'seaborn-ticks', 'seaborn-poster', 'seaborn-white', 'seaborn-whitegrid', 'seaborn-darkgrid', 'bmh', 'seaborn-colorblind', 'seaborn', 'seaborn-bright', 'grayscale', 'dark_background', 'seaborn-deep', 'seaborn-dark-palette', 'seaborn-pastel', 'seaborn-paper', 'tableau-colorblind10', 'classic', 'seaborn-talk', 'seaborn-dark']\n",
      "/home/youngdevps/anaconda3/lib/python3.7/site-packages/matplotlib/pyplot.py\n"
     ]
    },
    {
     "ename": "FileNotFoundError",
     "evalue": "[Errno 2] No such file or directory: 'tsla.csv'",
     "output_type": "error",
     "traceback": [
      "\u001b[0;31m-------------------------------------------------------------\u001b[0m",
      "\u001b[0;31mFileNotFoundError\u001b[0m           Traceback (most recent call last)",
      "\u001b[0;32m<ipython-input-76-624a1f4ea3a0>\u001b[0m in \u001b[0;36m<module>\u001b[0;34m\u001b[0m\n\u001b[1;32m     17\u001b[0m \u001b[0;34m\u001b[0m\u001b[0m\n\u001b[1;32m     18\u001b[0m \u001b[0;34m\u001b[0m\u001b[0m\n\u001b[0;32m---> 19\u001b[0;31m \u001b[0;32mwith\u001b[0m \u001b[0mopen\u001b[0m\u001b[0;34m(\u001b[0m\u001b[0;34m'tsla.csv'\u001b[0m\u001b[0;34m,\u001b[0m \u001b[0;34m'r'\u001b[0m\u001b[0;34m)\u001b[0m \u001b[0;32mas\u001b[0m \u001b[0mcsvfile\u001b[0m\u001b[0;34m:\u001b[0m\u001b[0;34m\u001b[0m\u001b[0;34m\u001b[0m\u001b[0m\n\u001b[0m\u001b[1;32m     20\u001b[0m     \u001b[0mfig\u001b[0m \u001b[0;34m=\u001b[0m \u001b[0mplt\u001b[0m\u001b[0;34m.\u001b[0m\u001b[0mfigure\u001b[0m\u001b[0;34m(\u001b[0m\u001b[0;34m'figure one'\u001b[0m\u001b[0;34m)\u001b[0m\u001b[0;34m\u001b[0m\u001b[0;34m\u001b[0m\u001b[0m\n\u001b[1;32m     21\u001b[0m     \u001b[0max1\u001b[0m \u001b[0;34m=\u001b[0m \u001b[0mplt\u001b[0m\u001b[0;34m.\u001b[0m\u001b[0msubplot2grid\u001b[0m\u001b[0;34m(\u001b[0m\u001b[0;34m(\u001b[0m\u001b[0;36m1\u001b[0m\u001b[0;34m,\u001b[0m \u001b[0;36m1\u001b[0m\u001b[0;34m)\u001b[0m\u001b[0;34m,\u001b[0m \u001b[0;34m(\u001b[0m\u001b[0;36m0\u001b[0m\u001b[0;34m,\u001b[0m \u001b[0;36m0\u001b[0m\u001b[0;34m)\u001b[0m\u001b[0;34m)\u001b[0m\u001b[0;34m\u001b[0m\u001b[0;34m\u001b[0m\u001b[0m\n",
      "\u001b[0;31mFileNotFoundError\u001b[0m: [Errno 2] No such file or directory: 'tsla.csv'"
     ]
    }
   ],
   "source": [
    "import matplotlib.pyplot as plt\n",
    "import numpy as np\n",
    "import matplotlib.dates as mdates\n",
    "import matplotlib.ticker as mticker\n",
    "from matplotlib import style\n",
    "\n",
    "style.use('dark_background')\n",
    "print(plt.style.available)\n",
    "print(plt.__file__)\n",
    "\n",
    "def bytespdate2num(fmt, encoding='utf-8'):\n",
    "    strconverter = mdates.strpdate2num(fmt)\n",
    "    def bytesconverter(b):\n",
    "        s = b.decode(encoding)\n",
    "        return strconverter(s)\n",
    "    return bytesconverter8\n",
    "\n",
    "\n",
    "with open('monitorDB.csv', 'r') as csvfile:\n",
    "    fig = plt.figure('figure one')\n",
    "    ax1 = plt.subplot2grid((1, 1), (0, 0))\n",
    "    # ax1.grid(True, color='g', linestyle='-', linewidth=0.1)\n",
    "\n",
    "    source_code = csvfile.read()\n",
    "    stock_data = []\n",
    "    split_source = source_code.split('\\n')\n",
    "\n",
    "    for line in split_source:\n",
    "        split_line = line.split(',')\n",
    "        stock_data.append(line)\n",
    "\n",
    "    date, openp, hightp, lowp, closep, aclosep, volume = np.loadtxt(stock_data,\n",
    "                                                                    delimiter=',',\n",
    "                                                                    unpack=True,\n",
    "                                                                    converters={0: bytespdate2num('%Y-%m-%d')})\n",
    "\n",
    "    ax1.plot(date, closep, label='close Price')\n",
    "    ax1.plot(date, openp, label='close Price')\n",
    "\n",
    "    for label in ax1.xaxis.get_ticklabels():\n",
    "        label.set_rotation(45)\n",
    "\n",
    "    ax1.xaxis.set_major_formatter(mdates.DateFormatter('%Y-%m-%d'))\n",
    "    ax1.xaxis.set_major_locator(mticker.MaxNLocator(10))\n",
    "    ax1.grid(True)\n",
    "\n",
    "    plt.xlabel('dates')\n",
    "    plt.ylabel('close price')\n",
    "    plt.title('finance with python  matplotlib')\n",
    "    plt.legend()\n",
    "    plt.subplots_adjust(left=0.09, bottom=0.20, right=0.94, top=0.90, wspace=0.2, hspace=0)\n",
    "    plt.show()"
   ]
  },
  {
   "cell_type": "code",
   "execution_count": 78,
   "metadata": {},
   "outputs": [
    {
     "name": "stdout",
     "output_type": "stream",
     "text": [
      "['140.79', '140.79', '140.79', '140.79', '140.79', '140.79', '140.79', '140.79', '140.79', '140.79', '140.79', '140.79', '140.79', '140.79', '140.79', '140.79', '140.79', '140.79', '140.79', '140.79', '140.79', '140.79', '140.79', '140.79', '140.79', '140.79', '140.79', '140.79', '140.90', '140.84', '140.84', '140.84', '140.95', '140.95', '140.95', '140.95', '140.95', '140.95', '140.95', '140.95', '140.95', '140.95', '140.95', '140.95', '140.95', '140.95']\n",
      "317.49\n"
     ]
    }
   ],
   "source": [
    "\n",
    "\n",
    "import ast\n",
    "\n",
    "def parse_tuple(string):\n",
    "    try:\n",
    "        s = ast.literal_eval(str(string))\n",
    "        if type(s) == tuple:\n",
    "            return s\n",
    "        return\n",
    "    except:\n",
    "        return\n",
    "    \n",
    "    \n",
    "def f(x):\n",
    "    x = parse_tuple(x)\n",
    "    size, byte = x\n",
    "    return size\n",
    "\n",
    "Disk_used = [f(x) for x in val['Disk[1]-used']]\n",
    "Disk_total, byte =  parse_tuple(val['Disk[0]-total'].max())\n",
    "\n",
    "\n",
    "print(Disk_used)\n",
    "print(Disk_total) "
   ]
  },
  {
   "cell_type": "code",
   "execution_count": 89,
   "metadata": {},
   "outputs": [
    {
     "name": "stdout",
     "output_type": "stream",
     "text": [
      "[50.4, 64.6, 39.4, 38.0, 37.4, 39.0, 41.5, 38.0, 37.3, 37.7, 39.4, 35.1, 35.8, 37.1, 36.0, 37.9, 46.2, 40.2, 38.3, 37.6, 37.4, 38.7, 39.6, 37.1, 36.7, 37.2, 39.3, 67.6, 68.3, 67.1, 68.0, 72.5, 70.4, 70.5, 55.0, 37.9, 38.6, 37.0, 52.3, 44.6, 40.0, 40.0, 37.5, 37.2, 46.7, 46.9] <class 'float'>\n",
      "[19.8, 21.4, 16.7, 15.8, 15.8, 17.0, 17.4, 17.6, 16.0, 15.9, 15.0, 18.7, 17.2, 15.9, 15.1, 15.7, 16.1, 13.6, 16.7, 16.0, 17.3, 15.3, 16.4, 17.3, 16.4, 16.5, 16.1, 19.5, 16.5, 18.9, 19.3, 18.1, 15.5, 20.3, 16.8, 16.8, 17.4, 16.5, 16.5, 15.5, 16.6, 15.0, 16.9, 16.8, 18.3, 18.4] <class 'float'>\n",
      "[28.4, 13.3, 39.9, 45.0, 45.1, 42.5, 40.0, 42.8, 45.9, 45.4, 43.6, 43.7, 46.0, 45.5, 47.9, 45.6, 34.7, 45.2, 43.8, 44.0, 44.8, 44.8, 43.5, 44.6, 45.7, 45.6, 43.2, 12.4, 14.4, 12.7, 11.8, 8.9, 12.6, 8.5, 27.7, 43.8, 43.0, 44.4, 29.9, 38.4, 42.9, 43.7, 44.9, 45.0, 33.1, 27.8] <class 'float'>\n"
     ]
    }
   ],
   "source": [
    "val = pd.read_csv(\"monitorDB.csv\")\n",
    "cputp_user = val['cputp[0]-user']\n",
    "\n",
    "def f(x, type_):\n",
    "    if type_ ==\"float\":\n",
    "        x = float(x)\n",
    "        return x\n",
    "    elif type_ == \"tuple\":\n",
    "        x = parse_tuple(x)\n",
    "        size, byte = x\n",
    "        return size\n",
    "    elif type_ == \"date\":\n",
    "        arr = x.split(\".\")\n",
    "        return arr[0]\n",
    "\n",
    "date = [f(x, date) for x in val['datetime']]\n"
   ]
  }
 ],
 "metadata": {
  "kernelspec": {
   "display_name": "Python 3",
   "language": "python",
   "name": "python3"
  },
  "language_info": {
   "codemirror_mode": {
    "name": "ipython",
    "version": 3
   },
   "file_extension": ".py",
   "mimetype": "text/x-python",
   "name": "python",
   "nbconvert_exporter": "python",
   "pygments_lexer": "ipython3",
   "version": "3.7.3"
  }
 },
 "nbformat": 4,
 "nbformat_minor": 2
}
